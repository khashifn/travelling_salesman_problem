{
  "nbformat": 4,
  "nbformat_minor": 0,
  "metadata": {
    "colab": {
      "name": "SC-Genetic",
      "provenance": [],
      "collapsed_sections": []
    },
    "kernelspec": {
      "name": "python3",
      "display_name": "Python 3"
    }
  },
  "cells": [
    {
      "cell_type": "code",
      "metadata": {
        "id": "qX_TVEQVenTo",
        "colab_type": "code",
        "outputId": "8dbba152-38a1-4dda-cd92-f2120b52b28c",
        "colab": {
          "base_uri": "https://localhost:8080/",
          "height": 34
        }
      },
      "source": [
        "from google.colab import drive\n",
        "drive.mount('/content/drive')"
      ],
      "execution_count": 4,
      "outputs": [
        {
          "output_type": "stream",
          "text": [
            "Drive already mounted at /content/drive; to attempt to forcibly remount, call drive.mount(\"/content/drive\", force_remount=True).\n"
          ],
          "name": "stdout"
        }
      ]
    },
    {
      "cell_type": "code",
      "metadata": {
        "id": "ck18mZFCX7E7",
        "colab_type": "code",
        "outputId": "19d5c4d4-62cd-4ebb-837d-e1e9b781dc6c",
        "colab": {
          "base_uri": "https://localhost:8080/",
          "height": 85
        }
      },
      "source": [
        "import pandas as pd\n",
        "import numpy as np\n",
        "import random\n",
        "!pip install tsplib95\n",
        "import tsplib95\n",
        "problem1 = tsplib95.load_problem('/content/drive/My Drive/SC_HW5/ali535.tsp')\n",
        "problem2 = tsplib95.load_problem('/content/drive/My Drive/SC_HW5/d2103.tsp')\n",
        "problem3 = tsplib95.load_problem('/content/drive/My Drive/SC_HW5/bayg29.tsp')\n"
      ],
      "execution_count": 5,
      "outputs": [
        {
          "output_type": "stream",
          "text": [
            "Requirement already satisfied: tsplib95 in /usr/local/lib/python3.6/dist-packages (0.6.0)\n",
            "Requirement already satisfied: Click>=6.0 in /usr/local/lib/python3.6/dist-packages (from tsplib95) (7.0)\n",
            "Requirement already satisfied: networkx~=2.1 in /usr/local/lib/python3.6/dist-packages (from tsplib95) (2.4)\n",
            "Requirement already satisfied: decorator>=4.3.0 in /usr/local/lib/python3.6/dist-packages (from networkx~=2.1->tsplib95) (4.4.1)\n"
          ],
          "name": "stdout"
        }
      ]
    },
    {
      "cell_type": "code",
      "metadata": {
        "id": "OCYBEpYnYDkp",
        "colab_type": "code",
        "colab": {}
      },
      "source": [
        "def init(problem,parentsnum):\n",
        "  L=problem.dimension #city number\n",
        "  parents=np.zeros([parentsnum,L])\n",
        "  sequence = [i+1 for i in range(L)]\n",
        "  for i in range(parentsnum):\n",
        "    np.random.shuffle(sequence)\n",
        "    parents[i,:]=sequence\n",
        "  return parents\n",
        "\n",
        "def cost(problem,seq):  \n",
        "  L=problem.dimension\n",
        "  cost=np.zeros([seq.shape[0],1])\n",
        "  for i in range(seq.shape[0]):\n",
        "    for j in range(L):\n",
        "      if j==L-1:\n",
        "        cost[i]+=problem.wfunc(int(seq[i,j]),int(seq[i,0]))\n",
        "        break\n",
        "      cost[i]+=problem.wfunc(int(seq[i,j]),int(seq[i,j+1]))  \n",
        "  return cost\n",
        "\n",
        "def tournament(problem,seq,t,k):\n",
        "  sequence = [i for i in range(seq.shape[0])]\n",
        "  out=np.zeros([k,seq.shape[1]])\n",
        "  for i in range(k):\n",
        "    subset = seq[random.sample(sequence, t)]\n",
        "    subsetcost=cost(problem,subset)\n",
        "    out[i]=subset[np.argmin(subsetcost)]\n",
        "  return out\n",
        "\n",
        "def cx(seqa,seqb):\n",
        "  ca=cxrec(seqa,seqb)\n",
        "  cb=cxrec(seqb,seqa)\n",
        "  return ca,cb\n",
        "\n",
        "def cxrec(seqa,seqb):\n",
        "  ca=np.zeros([1,seqa.shape[0]])\n",
        "  dicti={}\n",
        "  k=0\n",
        "  while(np.any(ca==0)):\n",
        "    dicti['posa'+str(k)]=[]\n",
        "    start=np.nonzero(ca==0)[1][0]\n",
        "    posa=start\n",
        "    dicti['posa'+str(k)].append(posa)\n",
        "    while(1):\n",
        "      posa=np.nonzero(seqa==seqb[posa])[0][0]\n",
        "      if posa == dicti['posa'+str(k)][0]:\n",
        "        break\n",
        "      dicti['posa'+str(k)].append(posa)\n",
        "    if k%2==0:\n",
        "      for i in range(len(dicti['posa'+str(k)])):\n",
        "        ca[0,dicti['posa'+str(k)][i]]=seqa[dicti['posa'+str(k)][i]]\n",
        "    else:\n",
        "      for i in range(len(dicti['posa'+str(k)])):\n",
        "        ca[0,dicti['posa'+str(k)][i]]=seqb[dicti['posa'+str(k)][i]]\n",
        "    k+=1\n",
        "  return ca\n",
        "\n",
        "def mutation(seq,rate):\n",
        "  for i in range(seq.shape[0]):\n",
        "    if np.random.rand()<=rate:\n",
        "      a=np.random.randint(seq.shape[1])\n",
        "      b=np.random.randint(seq.shape[1])\n",
        "      if b<a:\n",
        "        a,b=b,a\n",
        "      elif a==b:\n",
        "        continue\n",
        "      temp=seq[i,b]\n",
        "      seq[i,a+2:b+1]=seq[i,a+1:b]\n",
        "      seq[i,a+1]=temp\n",
        "  return seq"
      ],
      "execution_count": 0,
      "outputs": []
    },
    {
      "cell_type": "code",
      "metadata": {
        "id": "aKQ08Q2EZsjy",
        "colab_type": "code",
        "colab": {}
      },
      "source": [
        "def genetic(problem,mutationrate=.02,parentsnum=50,t=3,repperc=.2,prep=.95,genlimit=1000,epslimit=20,epsilon=.01):\n",
        "  gen=0\n",
        "  eps=0\n",
        "  repval=int(repperc*parentsnum)\n",
        "  L=problem.dimension\n",
        "  parents=init(problem,parentsnum)\n",
        "  #parents[-1,:]=bestroute\n",
        "  while(1):\n",
        "    np.random.shuffle(parents)\n",
        "    selectedparents=tournament(problem,parents,t,parentsnum)\n",
        "    childs=np.zeros([parentsnum**2,L])\n",
        "    _k=0\n",
        "    for i in selectedparents:\n",
        "      for j in selectedparents:\n",
        "        if np.random.rand()<=prep:\n",
        "          childs[_k,:]=cxrec(i,j)\n",
        "          _k+=1\n",
        "    childs = childs[0:_k,:]\n",
        "    oldparents=parents\n",
        "    childs=mutation(childs,mutationrate)\n",
        "    parents=np.append(parents,cost(problem,parents),axis=1)\n",
        "    childs=np.append(childs,cost(problem,childs),axis=1)\n",
        "    childs=childs[childs[:, -1].argsort()]\n",
        "    temp=parents\n",
        "    temp=temp[temp[:, -1].argsort()]\n",
        "    temp[-repval:,:]=childs[:repval,:]\n",
        "    parents=temp[:parentsnum,:L]\n",
        "    #allpop=np.append(childs,parents,axis=0)\n",
        "    #allpop=allpop[allpop[:, -1].argsort()]\n",
        "    #parents=allpop[allpop[:, -1].argsort()][:parentsnum,:L]\n",
        "    if (cost(problem,oldparents[0,:].reshape([1,L]))-cost(problem,parents[0,:].reshape([1,L])))<epsilon:\n",
        "      eps+=1\n",
        "    else:\n",
        "      eps=0\n",
        "    best=parents[0,:]\n",
        "    gen+=1\n",
        "    if gen>=genlimit:\n",
        "      break\n",
        "    if eps>=epslimit:\n",
        "      break\n",
        "  print(gen)\n",
        "  print(temp[0,L])\n",
        "  print(temp[-1,L])\n",
        "  return parents\n",
        "    "
      ],
      "execution_count": 0,
      "outputs": []
    },
    {
      "cell_type": "code",
      "metadata": {
        "id": "4SAFVt64Zuxl",
        "colab_type": "code",
        "colab": {}
      },
      "source": [
        "genetic(problem1,mutationrate=.05,parentsnum=100,t=3,repperc=.2,prep=.95,genlimit=10000,epslimit=30,epsilon=1)"
      ],
      "execution_count": 0,
      "outputs": []
    }
  ]
}